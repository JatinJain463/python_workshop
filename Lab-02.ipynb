{
 "cells": [
  {
   "cell_type": "code",
   "execution_count": 5,
   "metadata": {},
   "outputs": [
    {
     "name": "stdout",
     "output_type": "stream",
     "text": [
      "enter a number:-39\n",
      "39 is a odd number\n"
     ]
    }
   ],
   "source": [
    "# programme to check wether a number is odd or even.\n",
    "x = int(input(\"enter a number:-\"))\n",
    "if x%2==0:\n",
    "    print(x,\"is an even number\")\n",
    "else:\n",
    "    print(x,\"is a odd number\")"
   ]
  },
  {
   "cell_type": "code",
   "execution_count": 1,
   "metadata": {},
   "outputs": [
    {
     "name": "stdout",
     "output_type": "stream",
     "text": [
      "Enter a year: 254\n",
      "254 is not a leap year\n"
     ]
    }
   ],
   "source": [
    "#  Check whether an entered year is leap year or not.\n",
    "\n",
    "year = int(input(\"Enter a year: \"))\n",
    "\n",
    "if (year % 4) == 0:\n",
    "   if (year % 100) == 0:\n",
    "       if (year % 400) == 0:\n",
    "           print(\"{0} is a leap year\".format(year))\n",
    "       else:\n",
    "           print(\"{0} is not a leap year\".format(year))\n",
    "   else:\n",
    "       print(\"{0} is a leap year\".format(year))\n",
    "else:\n",
    "   print(\"{0} is not a leap year\".format(year))"
   ]
  },
  {
   "cell_type": "code",
   "execution_count": 12,
   "metadata": {
    "scrolled": true
   },
   "outputs": [
    {
     "name": "stdout",
     "output_type": "stream",
     "text": [
      "enter a character:-A\n",
      "it is a vowel\n"
     ]
    }
   ],
   "source": [
    "# Write a program to check whether a character is vowel or consonants.\n",
    "x = input(\"enter a character:-\")\n",
    "if x in ('a','e','i','o','u','A','E','I','O','U'):\n",
    "    print(\"it is a vowel\")\n",
    "else:\n",
    "    print(\"it is a consonant\")\n",
    "        "
   ]
  },
  {
   "cell_type": "code",
   "execution_count": 16,
   "metadata": {},
   "outputs": [
    {
     "name": "stdout",
     "output_type": "stream",
     "text": [
      "enter 1st number:-20\n",
      "enter 2nd number:-19\n",
      "20 is greater than 19\n"
     ]
    }
   ],
   "source": [
    "# Write a program to find the smallest of two numbers.\n",
    "x = int(input(\"enter 1st number:-\"))\n",
    "y = int(input(\"enter 2nd number:-\"))\n",
    "if x>y:\n",
    "    print(x,\"is greater than\",y)\n",
    "else:\n",
    "    print(y,\"is greater than\",x)\n",
    "        "
   ]
  },
  {
   "cell_type": "code",
   "execution_count": 22,
   "metadata": {},
   "outputs": [
    {
     "name": "stdout",
     "output_type": "stream",
     "text": [
      "enter a number to find factorial:-5\n",
      "factorial of 5 is 120\n"
     ]
    }
   ],
   "source": [
    "# Find the Factorial of a Number\n",
    "x = int(input(\"enter a number to find factorial:-\"))\n",
    "fact = 1\n",
    "for i in range(1,x+1):\n",
    "    fact = fact*i\n",
    "print(\"factorial of\",x,\"is\",fact)\n"
   ]
  },
  {
   "cell_type": "code",
   "execution_count": 25,
   "metadata": {},
   "outputs": [
    {
     "name": "stdout",
     "output_type": "stream",
     "text": [
      "how many terms?8\n",
      "Fibonacci sequence:\n",
      "0\n",
      "1\n",
      "1\n",
      "2\n",
      "3\n",
      "5\n",
      "8\n",
      "13\n"
     ]
    }
   ],
   "source": [
    "#\tWrite a program to print the fibonacci series.\n",
    "x = int(input(\"how many fibonacci terms to print?\"))\n",
    "n1=0\n",
    "n2=1\n",
    "count=0\n",
    "\n",
    "print(\"Fibonacci sequence:\")\n",
    "while count < x:\n",
    "    print(n1)\n",
    "    nth = n1 + n2\n",
    "      \n",
    "    n1 = n2\n",
    "    n2 = nth\n",
    "    count += 1"
   ]
  },
  {
   "cell_type": "code",
   "execution_count": 3,
   "metadata": {},
   "outputs": [
    {
     "name": "stdout",
     "output_type": "stream",
     "text": [
      "enter a number567\n",
      "567 is not a prime number\n",
      "3 times 189 is 567\n"
     ]
    }
   ],
   "source": [
    "# Check whether a number is prime or not.\n",
    "x = int(input(\"enter a number\"))\n",
    "if x > 1:\n",
    "   \n",
    "   for i in range(2,x):\n",
    "       if (x % i) == 0:\n",
    "           print(x,\"is not a prime number\")\n",
    "           print(i,\"times\",x//i,\"is\",x)\n",
    "           break\n",
    "   else:\n",
    "       print(x,\"is a prime number\")\n",
    "       \n",
    "else:\n",
    "   print(x,\"is not a prime number\")"
   ]
  },
  {
   "cell_type": "code",
   "execution_count": null,
   "metadata": {},
   "outputs": [
    {
     "name": "stdout",
     "output_type": "stream",
     "text": [
      "Please select operation -\n",
      "1. Add\n",
      "2. Subtract\n",
      "3. Multiply\n",
      "4. Divide\n",
      "\n"
     ]
    }
   ],
   "source": [
    "# Make a Simple Calculator.\n",
    "\n",
    "# defining a Function to add two numbers  \n",
    "def add(num1, num2): \n",
    "    return num1 + num2 \n",
    "  \n",
    "# Function to subtract two numbers  \n",
    "def subtract(num1, num2): \n",
    "    return num1 - num2 \n",
    "  \n",
    "# Function to multiply two numbers \n",
    "def multiply(num1, num2): \n",
    "    return num1 * num2 \n",
    "  \n",
    "# Function to divide two numbers \n",
    "def divide(num1, num2): \n",
    "    return num1 / num2 \n",
    "  \n",
    "print(\"Please select operation -\\n\" \n",
    "        \"1. Add\\n\" \n",
    "        \"2. Subtract\\n\"  \n",
    "        \"3. Multiply\\n\"  \n",
    "        \"4. Divide\\n\") \n",
    "  \n",
    "# Take input from the user  \n",
    "select = int(input(\"Select operations form 1, 2, 3, 4 :\")) \n",
    "  \n",
    "number_1 = int(input(\"Enter first number: \")) \n",
    "number_2 = int(input(\"Enter second number: \")) \n",
    "  \n",
    "if select == 1: \n",
    "    print(number_1, \"+\", number_2, \"=\", \n",
    "                    add(number_1, number_2)) \n",
    "  \n",
    "elif select == 2: \n",
    "    print(number_1, \"-\", number_2, \"=\", \n",
    "                    subtract(number_1, number_2)) \n",
    "  \n",
    "elif select == 3: \n",
    "    print(number_1, \"*\", number_2, \"=\", \n",
    "                    multiply(number_1, number_2)) \n",
    "  \n",
    "elif select == 4: \n",
    "    print(number_1, \"/\", number_2, \"=\", \n",
    "                    divide(number_1, number_2)) \n",
    "else: \n",
    "    print(\"Invalid input\") \n"
   ]
  },
  {
   "cell_type": "code",
   "execution_count": 2,
   "metadata": {},
   "outputs": [
    {
     "name": "stdout",
     "output_type": "stream",
     "text": [
      "   *   \n",
      "  * *  \n",
      " * * * \n",
      "* * * *\n"
     ]
    }
   ],
   "source": [
    "# Write a program to print this patterns\n",
    "#        *\n",
    "#     *     *\n",
    "#   *    *     *\n",
    "# *   *     *     *  \n",
    "\n",
    "print(\"   *   \\n  * *  \\n * * * \\n* * * *\")\n"
   ]
  },
  {
   "cell_type": "code",
   "execution_count": 34,
   "metadata": {},
   "outputs": [
    {
     "name": "stdout",
     "output_type": "stream",
     "text": [
      "Please select operation -\n",
      "1. Add\n",
      "2. Subtract\n",
      "3. Multiply\n",
      "4. Divide\n",
      "\n",
      "select operation from 1,2,3,4: 3\n",
      "enter 1st number:5\n",
      "enter 2nd number:3\n",
      "15\n"
     ]
    }
   ],
   "source": [
    "# Make a Simple Calculator.\n",
    "print(\"Please select operation -\\n\" \n",
    "        \"1. Add\\n\" \n",
    "        \"2. Subtract\\n\"  \n",
    "        \"3. Multiply\\n\"  \n",
    "        \"4. Divide\\n\") \n",
    "select = int(input(\"select operation from 1,2,3,4: \"))\n",
    "num1 = int(input(\"enter 1st number:\"))\n",
    "num2 = int(input(\"enter 2nd number:\"))\n",
    "if (select==1):\n",
    "    print(num1+num2)\n",
    "elif (select==2):\n",
    "    print(num1-num2)\n",
    "elif (select==3):\n",
    "    print(num1*num2)\n",
    "elif (select==4):\n",
    "    print(num1/num2)\n",
    "else:\n",
    "    print(\"please enter valid input\")\n",
    "\n",
    "\n"
   ]
  },
  {
   "cell_type": "code",
   "execution_count": null,
   "metadata": {},
   "outputs": [],
   "source": []
  }
 ],
 "metadata": {
  "kernelspec": {
   "display_name": "Python 3",
   "language": "python",
   "name": "python3"
  },
  "language_info": {
   "codemirror_mode": {
    "name": "ipython",
    "version": 3
   },
   "file_extension": ".py",
   "mimetype": "text/x-python",
   "name": "python",
   "nbconvert_exporter": "python",
   "pygments_lexer": "ipython3",
   "version": "3.8.5"
  }
 },
 "nbformat": 4,
 "nbformat_minor": 4
}
