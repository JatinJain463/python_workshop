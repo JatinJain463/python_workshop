{
 "cells": [
  {
   "cell_type": "code",
   "execution_count": 12,
   "metadata": {},
   "outputs": [
    {
     "name": "stdout",
     "output_type": "stream",
     "text": [
      "you are in tiger\n",
      "have 4 legs\n"
     ]
    }
   ],
   "source": [
    "class Animal:\n",
    "        \n",
    "    def legs(self):\n",
    "        print(\"have 4 legs\")\n",
    "        \n",
    "class Tiger(Animal):\n",
    "    def legs(self):\n",
    "        print(\"you are in tiger\")\n",
    "class Dog(Animal):\n",
    "    def legs(self):\n",
    "        Animal.legs(self)\n",
    "t=Tiger()\n",
    "t.legs()\n",
    "d=Dog()\n",
    "d.legs()"
   ]
  },
  {
   "cell_type": "code",
   "execution_count": 7,
   "metadata": {},
   "outputs": [
    {
     "name": "stdout",
     "output_type": "stream",
     "text": [
      "Engineer\n",
      "Manager\n"
     ]
    }
   ],
   "source": [
    "class Employee:\n",
    "    def printDesignation(self):\n",
    "        print(\"member\")\n",
    "        \n",
    "class Engineer(Employee):\n",
    "    def printDesignation(self):\n",
    "        print(\"Engineer\")\n",
    "\n",
    "class Manager(Employee):\n",
    "    def printDesignation(self):\n",
    "        print(\"Manager\")\n",
    "e=Engineer()\n",
    "e.printDesignation()\n",
    "m=Manager()\n",
    "m.printDesignation()\n",
    "\n",
    "        \n",
    "    \n",
    "    \n",
    "    "
   ]
  },
  {
   "cell_type": "code",
   "execution_count": 1,
   "metadata": {},
   "outputs": [
    {
     "name": "stdout",
     "output_type": "stream",
     "text": [
      "I am dog\n",
      "I am cow\n"
     ]
    }
   ],
   "source": [
    "class Animal:\n",
    "    Type1=\"dog\"\n",
    "    Type2=\"cow\"\n",
    "    \n",
    "    def varity(self):\n",
    "        print(\"I am\",self.Type1)\n",
    "        print(\"I am\",self.Type2)\n",
    "breed=Animal()\n",
    "breed.varity()\n",
    "        "
   ]
  },
  {
   "cell_type": "code",
   "execution_count": 13,
   "metadata": {},
   "outputs": [
    {
     "name": "stdout",
     "output_type": "stream",
     "text": [
      "inside parent\n",
      "inside child\n"
     ]
    }
   ],
   "source": [
    "class parent:\n",
    "    def __init__(self):\n",
    "        self.value=\"inside parent\"\n",
    "    def show(self):\n",
    "        print(self.value)\n",
    "class child(parent):\n",
    "    def __init__(self):\n",
    "        self.value=\"inside child\"\n",
    "    def show(self):\n",
    "        print(self.value)\n",
    "obj1=parent()\n",
    "obj1.show()\n",
    "obj2=child()\n",
    "obj2.show()\n",
    "\n"
   ]
  },
  {
   "cell_type": "code",
   "execution_count": 14,
   "metadata": {},
   "outputs": [
    {
     "name": "stdout",
     "output_type": "stream",
     "text": [
      "In Class2\n"
     ]
    }
   ],
   "source": [
    "class Class1:\n",
    "    def fun(self):\n",
    "        print(\"In Class1\") \n",
    "        \n",
    "class Class2(Class1):\n",
    "    def fun(self):\n",
    "        print(\"In Class2\")\n",
    "class Class3(Class1):\n",
    "    def fun(self):\n",
    "        print(\"In Class3\")  \n",
    "         \n",
    "class Class4(Class2, Class3):\n",
    "    pass   \n",
    "      \n",
    "obj = Class4()\n",
    "obj.fun()"
   ]
  },
  {
   "cell_type": "code",
   "execution_count": null,
   "metadata": {},
   "outputs": [],
   "source": []
  }
 ],
 "metadata": {
  "kernelspec": {
   "display_name": "Python 3",
   "language": "python",
   "name": "python3"
  },
  "language_info": {
   "codemirror_mode": {
    "name": "ipython",
    "version": 3
   },
   "file_extension": ".py",
   "mimetype": "text/x-python",
   "name": "python",
   "nbconvert_exporter": "python",
   "pygments_lexer": "ipython3",
   "version": "3.8.5"
  }
 },
 "nbformat": 4,
 "nbformat_minor": 4
}
