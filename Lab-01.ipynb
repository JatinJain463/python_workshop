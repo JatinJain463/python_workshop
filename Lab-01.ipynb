{
 "cells": [
  {
   "cell_type": "code",
   "execution_count": 1,
   "metadata": {},
   "outputs": [
    {
     "name": "stdout",
     "output_type": "stream",
     "text": [
      "Enter First 1:554\n",
      "Enter Second 2:51\n",
      "Sum = 605\n"
     ]
    }
   ],
   "source": [
    "#Sum of two numbers\n",
    "\n",
    "n1= int(input(\"Enter First 1:\"))\n",
    "n2= int(input(\"Enter Second 2:\"))\n",
    "print(\"Sum =\", n1+n2)"
   ]
  },
  {
   "cell_type": "code",
   "execution_count": 2,
   "metadata": {},
   "outputs": [
    {
     "name": "stdout",
     "output_type": "stream",
     "text": [
      "Enter the First name: jatin\n",
      "Enter the Middle name: -\n",
      "Enter the Last name: jain\n",
      "Greetings jatin - jain ,Welcome to python programming\n"
     ]
    }
   ],
   "source": [
    "# Input first, middle and last name then display greetings\n",
    "\n",
    "a=input(\"Enter the First name: \")\n",
    "b=input(\"Enter the Middle name: \")\n",
    "c=input(\"Enter the Last name: \")\n",
    "print(\"Greetings \"+a+\" \"+b+\" \"+c+\" ,Welcome to python programming\")"
   ]
  },
  {
   "cell_type": "code",
   "execution_count": 3,
   "metadata": {},
   "outputs": [
    {
     "name": "stdout",
     "output_type": "stream",
     "text": [
      "Welcome to python programming\n"
     ]
    }
   ],
   "source": [
    "# Welcome program\n",
    "\n",
    "print(\"Welcome to python programming\")\n"
   ]
  },
  {
   "cell_type": "code",
   "execution_count": null,
   "metadata": {},
   "outputs": [],
   "source": []
  }
 ],
 "metadata": {
  "kernelspec": {
   "display_name": "Python 3",
   "language": "python",
   "name": "python3"
  },
  "language_info": {
   "codemirror_mode": {
    "name": "ipython",
    "version": 3
   },
   "file_extension": ".py",
   "mimetype": "text/x-python",
   "name": "python",
   "nbconvert_exporter": "python",
   "pygments_lexer": "ipython3",
   "version": "3.8.5"
  }
 },
 "nbformat": 4,
 "nbformat_minor": 4
}
